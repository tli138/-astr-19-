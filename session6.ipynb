{
 "cells": [
  {
   "cell_type": "code",
   "execution_count": 1,
   "id": "52fa2b70",
   "metadata": {},
   "outputs": [],
   "source": [
    "import math\n",
    "\n",
    "def calculate_sin(x):\n",
    "    return math.sin(x)\n",
    "\n",
    "\n",
    "def calculate_cos(x):\n",
    "    return math.cos(x)"
   ]
  },
  {
   "cell_type": "markdown",
   "id": "93757c79",
   "metadata": {},
   "source": [
    "The above code defines two functions that compute `sin(x)` and `cos(x)`"
   ]
  },
  {
   "cell_type": "code",
   "execution_count": 2,
   "id": "bf6947e5",
   "metadata": {},
   "outputs": [],
   "source": [
    "num_entries = 1000\n",
    "start_x = 0\n",
    "end_x = 2 * math.pi\n",
    "\n",
    "step_size = (end_x - start_x) / (num_entries - 1)\n",
    "\n",
    "x_values = []\n",
    "sin_values = []\n",
    "cos_values = []\n",
    "\n",
    "x = start_x\n",
    "for _ in range(num_entries):\n",
    "    sin_x = calculate_sin(x)\n",
    "    cos_x = calculate_cos(x)\n",
    "    x_values.append(x)\n",
    "    sin_values.append(sin_x)\n",
    "    cos_values.append(cos_x)\n",
    "    x += step_size"
   ]
  },
  {
   "cell_type": "code",
   "execution_count": 3,
   "id": "0c4d3458",
   "metadata": {},
   "outputs": [
    {
     "name": "stdout",
     "output_type": "stream",
     "text": [
      "x\t\tsin(x)\t\tcos(x)\n",
      "0.0000\t\t0.0000\t\t1.0000\n",
      "0.0063\t\t0.0063\t\t1.0000\n",
      "0.0126\t\t0.0126\t\t0.9999\n",
      "0.0189\t\t0.0189\t\t0.9998\n",
      "0.0252\t\t0.0252\t\t0.9997\n",
      "0.0314\t\t0.0314\t\t0.9995\n",
      "0.0377\t\t0.0377\t\t0.9993\n",
      "0.0440\t\t0.0440\t\t0.9990\n",
      "0.0503\t\t0.0503\t\t0.9987\n",
      "0.0566\t\t0.0566\t\t0.9984\n"
     ]
    }
   ],
   "source": [
    "print(\"x\\t\\tsin(x)\\t\\tcos(x)\")\n",
    "\n",
    "for i in range(10):\n",
    "    print(f\"{x_values[i]:.4f}\\t\\t{sin_values[i]:.4f}\\t\\t{cos_values[i]:.4f}\")"
   ]
  },
  {
   "cell_type": "code",
   "execution_count": null,
   "id": "96af953a",
   "metadata": {},
   "outputs": [],
   "source": []
  }
 ],
 "metadata": {
  "kernelspec": {
   "display_name": "jupyter",
   "language": "python",
   "name": "jupyter"
  },
  "language_info": {
   "codemirror_mode": {
    "name": "ipython",
    "version": 3
   },
   "file_extension": ".py",
   "mimetype": "text/x-python",
   "name": "python",
   "nbconvert_exporter": "python",
   "pygments_lexer": "ipython3",
   "version": "3.9.10"
  }
 },
 "nbformat": 4,
 "nbformat_minor": 5
}
